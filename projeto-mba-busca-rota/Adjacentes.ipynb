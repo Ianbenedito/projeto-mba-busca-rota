{
 "cells": [
  {
   "cell_type": "code",
   "execution_count": 7,
   "id": "67949a85",
   "metadata": {},
   "outputs": [],
   "source": [
    "import pandas pd"
   ]
  },
  {
   "cell_type": "code",
   "execution_count": 9,
   "id": "1495dd9e",
   "metadata": {},
   "outputs": [
    {
     "name": "stdout",
     "output_type": "stream",
     "text": [
      "<class 'pandas.core.frame.DataFrame'>\n",
      "RangeIndex: 641 entries, 0 to 640\n",
      "Data columns (total 4 columns):\n",
      " #   Column     Non-Null Count  Dtype  \n",
      "---  ------     --------------  -----  \n",
      " 0   Cidade     641 non-null    object \n",
      " 1   Latitude   641 non-null    float64\n",
      " 2   Longitude  641 non-null    float64\n",
      " 3   Distancia  641 non-null    int64  \n",
      "dtypes: float64(2), int64(1), object(1)\n",
      "memory usage: 20.2+ KB\n"
     ]
    }
   ],
   "source": [
    "df = pd.read_excel('latlongdist.xlsx')\n",
    "df.info()"
   ]
  },
  {
   "cell_type": "code",
   "execution_count": 10,
   "id": "7883d609",
   "metadata": {},
   "outputs": [
    {
     "data": {
      "text/html": [
       "<div>\n",
       "<style scoped>\n",
       "    .dataframe tbody tr th:only-of-type {\n",
       "        vertical-align: middle;\n",
       "    }\n",
       "\n",
       "    .dataframe tbody tr th {\n",
       "        vertical-align: top;\n",
       "    }\n",
       "\n",
       "    .dataframe thead th {\n",
       "        text-align: right;\n",
       "    }\n",
       "</style>\n",
       "<table border=\"1\" class=\"dataframe\">\n",
       "  <thead>\n",
       "    <tr style=\"text-align: right;\">\n",
       "      <th></th>\n",
       "      <th>Cidade</th>\n",
       "      <th>Latitude</th>\n",
       "      <th>Longitude</th>\n",
       "      <th>Distancia</th>\n",
       "    </tr>\n",
       "  </thead>\n",
       "  <tbody>\n",
       "    <tr>\n",
       "      <th>0</th>\n",
       "      <td>Adamantina</td>\n",
       "      <td>-51.073695</td>\n",
       "      <td>-21.682012</td>\n",
       "      <td>579</td>\n",
       "    </tr>\n",
       "    <tr>\n",
       "      <th>1</th>\n",
       "      <td>Adolfo</td>\n",
       "      <td>-49.645128</td>\n",
       "      <td>-21.232494</td>\n",
       "      <td>468</td>\n",
       "    </tr>\n",
       "    <tr>\n",
       "      <th>2</th>\n",
       "      <td>Aguaí</td>\n",
       "      <td>-46.973502</td>\n",
       "      <td>-22.057207</td>\n",
       "      <td>197</td>\n",
       "    </tr>\n",
       "    <tr>\n",
       "      <th>3</th>\n",
       "      <td>Agudos</td>\n",
       "      <td>-48.986320</td>\n",
       "      <td>-22.469433</td>\n",
       "      <td>311</td>\n",
       "    </tr>\n",
       "    <tr>\n",
       "      <th>4</th>\n",
       "      <td>Alambari</td>\n",
       "      <td>-47.897971</td>\n",
       "      <td>-23.550338</td>\n",
       "      <td>153</td>\n",
       "    </tr>\n",
       "    <tr>\n",
       "      <th>...</th>\n",
       "      <td>...</td>\n",
       "      <td>...</td>\n",
       "      <td>...</td>\n",
       "      <td>...</td>\n",
       "    </tr>\n",
       "    <tr>\n",
       "      <th>636</th>\n",
       "      <td>Águas de São Pedro</td>\n",
       "      <td>-47.873395</td>\n",
       "      <td>-22.597749</td>\n",
       "      <td>187</td>\n",
       "    </tr>\n",
       "    <tr>\n",
       "      <th>637</th>\n",
       "      <td>Álvares Florence</td>\n",
       "      <td>-49.914126</td>\n",
       "      <td>-20.320341</td>\n",
       "      <td>543</td>\n",
       "    </tr>\n",
       "    <tr>\n",
       "      <th>638</th>\n",
       "      <td>Álvares Machado</td>\n",
       "      <td>-51.472240</td>\n",
       "      <td>-22.076415</td>\n",
       "      <td>566</td>\n",
       "    </tr>\n",
       "    <tr>\n",
       "      <th>639</th>\n",
       "      <td>Álvaro de Carvalho</td>\n",
       "      <td>-49.719044</td>\n",
       "      <td>-22.084132</td>\n",
       "      <td>421</td>\n",
       "    </tr>\n",
       "    <tr>\n",
       "      <th>640</th>\n",
       "      <td>Óleo</td>\n",
       "      <td>-49.341924</td>\n",
       "      <td>-22.943461</td>\n",
       "      <td>323</td>\n",
       "    </tr>\n",
       "  </tbody>\n",
       "</table>\n",
       "<p>641 rows × 4 columns</p>\n",
       "</div>"
      ],
      "text/plain": [
       "                 Cidade   Latitude  Longitude  Distancia\n",
       "0            Adamantina -51.073695 -21.682012        579\n",
       "1                Adolfo -49.645128 -21.232494        468\n",
       "2                 Aguaí -46.973502 -22.057207        197\n",
       "3                Agudos -48.986320 -22.469433        311\n",
       "4              Alambari -47.897971 -23.550338        153\n",
       "..                  ...        ...        ...        ...\n",
       "636  Águas de São Pedro -47.873395 -22.597749        187\n",
       "637    Álvares Florence -49.914126 -20.320341        543\n",
       "638     Álvares Machado -51.472240 -22.076415        566\n",
       "639  Álvaro de Carvalho -49.719044 -22.084132        421\n",
       "640                Óleo -49.341924 -22.943461        323\n",
       "\n",
       "[641 rows x 4 columns]"
      ]
     },
     "execution_count": 10,
     "metadata": {},
     "output_type": "execute_result"
    }
   ],
   "source": [
    "df"
   ]
  },
  {
   "cell_type": "code",
   "execution_count": 62,
   "id": "c909b13d",
   "metadata": {},
   "outputs": [],
   "source": [
    "adamantina = df.groupby('Cidade').get_group('Bauru')\n",
    "tupa = df.groupby('Cidade').get_group('São Paulo')"
   ]
  },
  {
   "cell_type": "code",
   "execution_count": 63,
   "id": "32e2962b",
   "metadata": {},
   "outputs": [
    {
     "data": {
      "text/plain": [
       "286.7010406484146"
      ]
     },
     "execution_count": 63,
     "metadata": {},
     "output_type": "execute_result"
    }
   ],
   "source": [
    "import numpy as np\n",
    "\n",
    "lat1 = np.radians(adamantina['Latitude'].values[0])\n",
    "lon1 = np.radians(adamantina['Longitude'].values[0])\n",
    "lat2 = np.radians(tupa['Latitude'].values[0])\n",
    "lon2 = np.radians(tupa['Longitude'].values[0])\n",
    "\n",
    "\n",
    "a = np.sin((lat2 - lat1) / 2)**2 + np.cos(lat1) * np.cos(lat2) * np.sin((lon2 - lon1) / 2)**2\n",
    "c = 2 * np.arctan2(np.sqrt(a), np.sqrt(1 - a))\n",
    "dist = 6371.19 * c  \n",
    "dist"
   ]
  },
  {
   "cell_type": "code",
   "execution_count": 64,
   "id": "50d1e1c7",
   "metadata": {},
   "outputs": [
    {
     "data": {
      "text/html": [
       "<div>\n",
       "<style scoped>\n",
       "    .dataframe tbody tr th:only-of-type {\n",
       "        vertical-align: middle;\n",
       "    }\n",
       "\n",
       "    .dataframe tbody tr th {\n",
       "        vertical-align: top;\n",
       "    }\n",
       "\n",
       "    .dataframe thead th {\n",
       "        text-align: right;\n",
       "    }\n",
       "</style>\n",
       "<table border=\"1\" class=\"dataframe\">\n",
       "  <thead>\n",
       "    <tr style=\"text-align: right;\">\n",
       "      <th></th>\n",
       "      <th>Cidade</th>\n",
       "      <th>Latitude</th>\n",
       "      <th>Longitude</th>\n",
       "      <th>Distancia</th>\n",
       "    </tr>\n",
       "  </thead>\n",
       "  <tbody>\n",
       "    <tr>\n",
       "      <th>59</th>\n",
       "      <td>Bauru</td>\n",
       "      <td>-49.087142</td>\n",
       "      <td>-22.324569</td>\n",
       "      <td>328</td>\n",
       "    </tr>\n",
       "  </tbody>\n",
       "</table>\n",
       "</div>"
      ],
      "text/plain": [
       "   Cidade   Latitude  Longitude  Distancia\n",
       "59  Bauru -49.087142 -22.324569        328"
      ]
     },
     "execution_count": 64,
     "metadata": {},
     "output_type": "execute_result"
    }
   ],
   "source": [
    "adamantina"
   ]
  },
  {
   "cell_type": "code",
   "execution_count": 12,
   "id": "483714a0",
   "metadata": {},
   "outputs": [],
   "source": [
    "  \n",
    "import pandas as pd\n",
    "import numpy as np\n",
    "\n",
    "class BuscaMapa:\n",
    "    def __init__(self):\n",
    "        self.tamanho = int(input('quantas cidades o caminhão vai passar? (Somente números): '))\n",
    "        self.cidade = [None] * self.tamanho\n",
    "        self.achou = False\n",
    "        self.n_elementos = 0\n",
    "        \n",
    "    def importando_tabela(self):\n",
    "        self.df = pd.read_excel('latlongdist.xlsx')\n",
    "        \n",
    "        \n",
    "    \n",
    "     \n",
    "    def inicio_objetivo(self):\n",
    "        df = self.df\n",
    "        cidade_inicial = input('Qual vai ser a cidade inicial? ')\n",
    "        objetivo = input('Qual vai ser a cidade final? ')\n",
    "\n",
    "        self.cidade_inicial = cidade_inicial\n",
    "        self.objetivo = objetivo\n",
    "        self.visitado = True\n",
    "        \n",
    "    \n",
    "        #calculo adjacente\n",
    "        nome_cidade_inicial = df.groupby('Cidade').get_group(cidade_inicial)\n",
    "        nome_objetivo = df.groupby('Cidade').get_group(objetivo)\n",
    "        self.lat_obj = np.radians(nome_objetivo['Latitude'].values[0])\n",
    "        self.lon_obj = np.radians(nome_objetivo['Longitude'].values[0])\n",
    "\n",
    "        print(f'Você vai começar na cidade: {cidade_inicial}, e vai acabar sua rota na cidade: {objetivo}')\n",
    "        return\n",
    "    \n",
    "            \n",
    "    def importa_cidades(self):\n",
    "        df = self.df\n",
    "            \n",
    "        if self.n_elementos == 0:\n",
    "            self.cidade[0] = self.cidade_inicial\n",
    "            self.cidade[1] = self.objetivo\n",
    "            self.n_elementos = 2\n",
    "            return\n",
    "\n",
    "\n",
    "\n",
    "        i = 1\n",
    "        p = 1\n",
    "\n",
    "        cidade1 = input('Inclua a cidade que o caminhão irá passar: ')\n",
    "\n",
    "\n",
    "        while i < self.n_elementos:\n",
    "            cidade_escolha = df.groupby('Cidade').get_group(cidade1)\n",
    "            distancia_cidade_sp = np.radians(cidade_escolha['Distancia'].values[0])\n",
    "\n",
    "                #cidade menor distância\n",
    "            distancia_cidade_menor_adjacente = df.groupby('Cidade').get_group(self.cidade[p])\n",
    "            distancia_menor_sp = np.radians(distancia_cidade_menor_adjacente['Distancia'].values[0])\n",
    "\n",
    "                #cidade maior distância\n",
    "            distancia_cidade_maior_adjacente = df.groupby('Cidade').get_group(self.cidade[p - 1])\n",
    "            distancia_maior_sp = np.radians(distancia_cidade_maior_adjacente['Distancia'].values[0])\n",
    "\n",
    "                #adjacente entre maior e menor\n",
    "            lat1 = np.radians(distancia_cidade_menor_adjacente['Latitude'].values[0])\n",
    "            lon1 = np.radians(distancia_cidade_menor_adjacente['Longitude'].values[0])\n",
    "            lat2 = np.radians(distancia_cidade_maior_adjacente['Latitude'].values[0])\n",
    "            lon2 = np.radians(distancia_cidade_maior_adjacente['Longitude'].values[0])\n",
    "\n",
    "\n",
    "            a = np.sin((lat2 - lat1) / 2)**2 + np.cos(lat1) * np.cos(lat2) * np.sin((lon2 - lon1) / 2)**2\n",
    "            c = 2 * np.arctan2(np.sqrt(a), np.sqrt(1 - a))\n",
    "            adjacente = 6371.19 * c #adjacente entre posicção p e p-1\n",
    "\n",
    "\n",
    "                #distancia com objetivo ou p-1 com objetivo\n",
    "            a_obj = np.sin((self.lat_obj - lat2) / 2)**2 + np.cos(lat2) * np.cos(self.lat_obj) * np.sin((self.lon_obj - lon2) / 2)**2\n",
    "            c_obj = 2 * np.arctan2(np.sqrt(a_obj), np.sqrt(1 - a_obj))\n",
    "            adjacente_obj = 6371.19 * c_obj\n",
    "\n",
    "            adjacente_obj_final = adjacente_obj + adjacente\n",
    "\n",
    "\n",
    "                #diatancia entre cidade atual e objetivo\n",
    "            lat_atual = np.radians(cidade_escolha['Latitude'].values[0])\n",
    "            lon_atual = np.radians(cidade_escolha['Longitude'].values[0])\n",
    "            a_atual = np.sin((self.lat_obj - lat_atual) / 2)**2 + np.cos(lat_atual) * np.cos(self.lat_obj) * np.sin((self.lon_obj - lon_atual) / 2)**2\n",
    "            c_atual = 2 * np.arctan2(np.sqrt(a_atual), np.sqrt(1 - a_atual))\n",
    "            adjacente_cidade_atual_obj = 6371.19 * c_atual \n",
    "                #distancia entre cidade atual e adjacente\n",
    "            a_obj_atual = np.sin((lat_atual - lat1) / 2)**2 + np.cos(lat1) * np.cos(lat_atual) * np.sin((lon_atual - lon1) / 2)**2\n",
    "            c_obj_atual = 2 * np.arctan2(np.sqrt(a_obj_atual), np.sqrt(1 - a_obj_atual))\n",
    "            adjacente_cidade_atual_menor = 6371.19 * c_obj_atual\n",
    "                #soma entre duas distancias\n",
    "            adjacente_cidade_atual = adjacente_cidade_atual_menor + adjacente_cidade_atual_obj\n",
    "\n",
    "\n",
    "            if adjacente_obj_final > adjacente_cidade_atual:\n",
    "                p +=1\n",
    "            i +=1 \n",
    "                \n",
    "                \n",
    "\n",
    "\n",
    "\n",
    "\n",
    "        for k in range(self.n_elementos, p - 1, -1):\n",
    "            self.cidade[k] = self.cidade[k - 1]\n",
    "\n",
    "\n",
    "        self.cidade[p - 1] = cidade1\n",
    "        self.n_elementos += 1\n",
    "\n",
    "        \n",
    "        \n",
    "    def mostra_lista(self):\n",
    "        print('Essas são as cidades que você deve passar por ordem:')\n",
    "        for cidades, posicao in zip(self.cidade, range(self.tamanho)):\n",
    "            print(f'{cidades} - {posicao + 1}°')\n",
    "            \n",
    "            \n",
    "        \n",
    "        "
   ]
  },
  {
   "cell_type": "code",
   "execution_count": 13,
   "id": "96a70f08",
   "metadata": {},
   "outputs": [
    {
     "name": "stdout",
     "output_type": "stream",
     "text": [
      "quantas cidades o caminhão vai passar? (Somente números): 3\n",
      "Qual vai ser a cidade inicial? Campinas\n",
      "Qual vai ser a cidade final? Aparecida\n",
      "Você vai começar na cidade: Campinas, e vai acabar sua rota na cidade: Aparecida\n"
     ]
    }
   ],
   "source": [
    "busca_mapa = BuscaMapa()\n",
    "busca_mapa.importando_tabela()\n",
    "busca_mapa.inicio_objetivo()\n",
    "busca_mapa.importa_cidades()"
   ]
  },
  {
   "cell_type": "code",
   "execution_count": 14,
   "id": "19b79bbe",
   "metadata": {},
   "outputs": [
    {
     "name": "stdout",
     "output_type": "stream",
     "text": [
      "Inclua a cidade que o caminhão irá passar: Taubaté\n"
     ]
    }
   ],
   "source": [
    "busca_mapa.importa_cidades()"
   ]
  },
  {
   "cell_type": "code",
   "execution_count": 7,
   "id": "befff24e",
   "metadata": {},
   "outputs": [
    {
     "name": "stdout",
     "output_type": "stream",
     "text": [
      "Inclua a cidade que o caminhão irá passar: Osasco\n"
     ]
    }
   ],
   "source": [
    "busca_mapa.importa_cidades()"
   ]
  },
  {
   "cell_type": "code",
   "execution_count": 8,
   "id": "9c2a7a1f",
   "metadata": {},
   "outputs": [
    {
     "name": "stdout",
     "output_type": "stream",
     "text": [
      "Inclua a cidade que o caminhão irá passar: Marília\n"
     ]
    }
   ],
   "source": [
    "busca_mapa.importa_cidades()\n"
   ]
  },
  {
   "cell_type": "code",
   "execution_count": 9,
   "id": "42c9063d",
   "metadata": {},
   "outputs": [
    {
     "name": "stdout",
     "output_type": "stream",
     "text": [
      "Inclua a cidade que o caminhão irá passar: Garça\n"
     ]
    }
   ],
   "source": [
    "busca_mapa.importa_cidades()"
   ]
  },
  {
   "cell_type": "code",
   "execution_count": 10,
   "id": "f811e44f",
   "metadata": {},
   "outputs": [
    {
     "name": "stdout",
     "output_type": "stream",
     "text": [
      "Inclua a cidade que o caminhão irá passar: Bauru\n"
     ]
    }
   ],
   "source": [
    "busca_mapa.importa_cidades()"
   ]
  },
  {
   "cell_type": "code",
   "execution_count": 15,
   "id": "53113daf",
   "metadata": {},
   "outputs": [
    {
     "name": "stdout",
     "output_type": "stream",
     "text": [
      "Essas são as cidades que você deve passar por ordem:\n",
      "Campinas - 1°\n",
      "Taubaté - 2°\n",
      "Aparecida - 3°\n"
     ]
    }
   ],
   "source": [
    "busca_mapa.mostra_lista()"
   ]
  }
 ],
 "metadata": {
  "kernelspec": {
   "display_name": "Python 3 (ipykernel)",
   "language": "python",
   "name": "python3"
  },
  "language_info": {
   "codemirror_mode": {
    "name": "ipython",
    "version": 3
   },
   "file_extension": ".py",
   "mimetype": "text/x-python",
   "name": "python",
   "nbconvert_exporter": "python",
   "pygments_lexer": "ipython3",
   "version": "3.11.5"
  }
 },
 "nbformat": 4,
 "nbformat_minor": 5
}
